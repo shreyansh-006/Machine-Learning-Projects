{
 "cells": [
  {
   "cell_type": "code",
   "execution_count": null,
   "metadata": {},
   "outputs": [],
   "source": [
    "import yfinance as yf\n",
    "from autots import AutoTS\n",
    "\n",
    "# Define the list of cryptocurrencies to analyze\n",
    "cryptocurrencies = ['BTC-USD', 'ETH-USD', 'BNB-USD', 'ADA-USD', 'DOGE-USD', 'XRP-USD', 'DOT1-USD', 'LTC-USD', 'UNI3-USD', 'LINK-USD']\n",
    "\n",
    "# Create an empty dictionary to store the recommendations\n",
    "recommendations = {}\n",
    "\n",
    "# Loop through each cryptocurrency and generate a recommendation\n",
    "for symbol in cryptocurrencies:\n",
    "    # Fetch historical data for the cryptocurrency\n",
    "    data = yf.download(symbol, start='2018-01-01', end='2022-04-06', interval='1d')\n",
    "    \n",
    "    # Create an instance of AutoTS and fit the model to the data\n",
    "    model = AutoTS(forecast_length=1, frequency='D', prediction_interval=0.9)\n",
    "    model = model.fit(data)\n",
    "    \n",
    "    # Generate a one-day forecast for the cryptocurrency\n",
    "    forecast = model.predict()\n",
    "    \n",
    "    # Get the forecasted value for tomorrow\n",
    "    forecast_value = forecast[symbol].values[0][0]\n",
    "    \n",
    "    # Store the forecast value in the recommendations dictionary\n",
    "    recommendations[symbol] = forecast_value\n",
    "\n",
    "# Get the symbol with the highest forecast value\n",
    "best_symbol = max(recommendations, key=recommendations.get)\n",
    "\n",
    "# Print the recommended cryptocurrency\n",
    "print(f\"The recommended cryptocurrency is {best_symbol}\")\n"
   ]
  },
  {
   "cell_type": "code",
   "execution_count": null,
   "metadata": {},
   "outputs": [],
   "source": []
  }
 ],
 "metadata": {
  "kernelspec": {
   "display_name": "base",
   "language": "python",
   "name": "python3"
  },
  "language_info": {
   "codemirror_mode": {
    "name": "ipython",
    "version": 3
   },
   "file_extension": ".py",
   "mimetype": "text/x-python",
   "name": "python",
   "nbconvert_exporter": "python",
   "pygments_lexer": "ipython3",
   "version": "3.10.10"
  },
  "orig_nbformat": 4
 },
 "nbformat": 4,
 "nbformat_minor": 2
}
